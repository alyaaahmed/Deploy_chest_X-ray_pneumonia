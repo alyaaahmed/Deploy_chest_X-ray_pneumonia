{
 "cells": [
  {
   "cell_type": "code",
   "execution_count": 1,
   "metadata": {},
   "outputs": [],
   "source": [
    "from pathlib import Path\n",
    "import os\n",
    "import pandas as pd\n",
    "from glob import glob"
   ]
  },
  {
   "cell_type": "code",
   "execution_count": 2,
   "metadata": {},
   "outputs": [
    {
     "name": "stdout",
     "output_type": "stream",
     "text": [
      "Current working directory: f:\\datascience\\datascience_project\\project\\new2025\\github\\Deploy_chest_X-ray_pneumonia\\notebooks\n"
     ]
    }
   ],
   "source": [
    "# Check Your Working Directory\n",
    "print('Current working directory:', os.getcwd())"
   ]
  },
  {
   "cell_type": "code",
   "execution_count": 4,
   "metadata": {},
   "outputs": [
    {
     "name": "stdout",
     "output_type": "stream",
     "text": [
      "f:\\datascience\\datascience_project\\project\\new2025\\github\\Deploy_chest_X-ray_pneumonia\n"
     ]
    }
   ],
   "source": [
    "%cd .."
   ]
  },
  {
   "cell_type": "code",
   "execution_count": 5,
   "metadata": {},
   "outputs": [
    {
     "data": {
      "text/html": [
       "<div>\n",
       "<style scoped>\n",
       "    .dataframe tbody tr th:only-of-type {\n",
       "        vertical-align: middle;\n",
       "    }\n",
       "\n",
       "    .dataframe tbody tr th {\n",
       "        vertical-align: top;\n",
       "    }\n",
       "\n",
       "    .dataframe thead th {\n",
       "        text-align: right;\n",
       "    }\n",
       "</style>\n",
       "<table border=\"1\" class=\"dataframe\">\n",
       "  <thead>\n",
       "    <tr style=\"text-align: right;\">\n",
       "      <th></th>\n",
       "      <th>img-path</th>\n",
       "      <th>class-name</th>\n",
       "      <th>split-name</th>\n",
       "      <th>resized_img</th>\n",
       "    </tr>\n",
       "  </thead>\n",
       "  <tbody>\n",
       "    <tr>\n",
       "      <th>0</th>\n",
       "      <td>data\\chest_xray\\chest_xray\\test\\NORMAL\\IM-0001...</td>\n",
       "      <td>NORMAL</td>\n",
       "      <td>test</td>\n",
       "      <td>data/resize_image/test_NORMAL_IM-0001-0001.jpeg</td>\n",
       "    </tr>\n",
       "    <tr>\n",
       "      <th>1</th>\n",
       "      <td>data\\chest_xray\\chest_xray\\test\\NORMAL\\IM-0003...</td>\n",
       "      <td>NORMAL</td>\n",
       "      <td>test</td>\n",
       "      <td>data/resize_image/test_NORMAL_IM-0003-0001.jpeg</td>\n",
       "    </tr>\n",
       "    <tr>\n",
       "      <th>2</th>\n",
       "      <td>data\\chest_xray\\chest_xray\\test\\NORMAL\\IM-0005...</td>\n",
       "      <td>NORMAL</td>\n",
       "      <td>test</td>\n",
       "      <td>data/resize_image/test_NORMAL_IM-0005-0001.jpeg</td>\n",
       "    </tr>\n",
       "    <tr>\n",
       "      <th>3</th>\n",
       "      <td>data\\chest_xray\\chest_xray\\test\\NORMAL\\IM-0006...</td>\n",
       "      <td>NORMAL</td>\n",
       "      <td>test</td>\n",
       "      <td>data/resize_image/test_NORMAL_IM-0006-0001.jpeg</td>\n",
       "    </tr>\n",
       "    <tr>\n",
       "      <th>4</th>\n",
       "      <td>data\\chest_xray\\chest_xray\\test\\NORMAL\\IM-0007...</td>\n",
       "      <td>NORMAL</td>\n",
       "      <td>test</td>\n",
       "      <td>data/resize_image/test_NORMAL_IM-0007-0001.jpeg</td>\n",
       "    </tr>\n",
       "  </tbody>\n",
       "</table>\n",
       "</div>"
      ],
      "text/plain": [
       "                                            img-path class-name split-name  \\\n",
       "0  data\\chest_xray\\chest_xray\\test\\NORMAL\\IM-0001...     NORMAL       test   \n",
       "1  data\\chest_xray\\chest_xray\\test\\NORMAL\\IM-0003...     NORMAL       test   \n",
       "2  data\\chest_xray\\chest_xray\\test\\NORMAL\\IM-0005...     NORMAL       test   \n",
       "3  data\\chest_xray\\chest_xray\\test\\NORMAL\\IM-0006...     NORMAL       test   \n",
       "4  data\\chest_xray\\chest_xray\\test\\NORMAL\\IM-0007...     NORMAL       test   \n",
       "\n",
       "                                       resized_img  \n",
       "0  data/resize_image/test_NORMAL_IM-0001-0001.jpeg  \n",
       "1  data/resize_image/test_NORMAL_IM-0003-0001.jpeg  \n",
       "2  data/resize_image/test_NORMAL_IM-0005-0001.jpeg  \n",
       "3  data/resize_image/test_NORMAL_IM-0006-0001.jpeg  \n",
       "4  data/resize_image/test_NORMAL_IM-0007-0001.jpeg  "
      ]
     },
     "execution_count": 5,
     "metadata": {},
     "output_type": "execute_result"
    }
   ],
   "source": [
    "data_map=pd.read_csv('data/data_map.csv')\n",
    "data_map.head()\n",
    "\n",
    "\n",
    "\n",
    "\n",
    "\n"
   ]
  },
  {
   "cell_type": "code",
   "execution_count": 7,
   "metadata": {},
   "outputs": [],
   "source": [
    "from sklearn.preprocessing import LabelEncoder\n"
   ]
  },
  {
   "cell_type": "code",
   "execution_count": 9,
   "metadata": {},
   "outputs": [
    {
     "data": {
      "text/html": [
       "<div>\n",
       "<style scoped>\n",
       "    .dataframe tbody tr th:only-of-type {\n",
       "        vertical-align: middle;\n",
       "    }\n",
       "\n",
       "    .dataframe tbody tr th {\n",
       "        vertical-align: top;\n",
       "    }\n",
       "\n",
       "    .dataframe thead th {\n",
       "        text-align: right;\n",
       "    }\n",
       "</style>\n",
       "<table border=\"1\" class=\"dataframe\">\n",
       "  <thead>\n",
       "    <tr style=\"text-align: right;\">\n",
       "      <th></th>\n",
       "      <th>img-path</th>\n",
       "      <th>class-name</th>\n",
       "      <th>split-name</th>\n",
       "      <th>resized_img</th>\n",
       "      <th>class-encoded</th>\n",
       "    </tr>\n",
       "  </thead>\n",
       "  <tbody>\n",
       "    <tr>\n",
       "      <th>0</th>\n",
       "      <td>data\\chest_xray\\chest_xray\\test\\NORMAL\\IM-0001...</td>\n",
       "      <td>NORMAL</td>\n",
       "      <td>test</td>\n",
       "      <td>data/resize_image/test_NORMAL_IM-0001-0001.jpeg</td>\n",
       "      <td>0</td>\n",
       "    </tr>\n",
       "    <tr>\n",
       "      <th>1</th>\n",
       "      <td>data\\chest_xray\\chest_xray\\test\\NORMAL\\IM-0003...</td>\n",
       "      <td>NORMAL</td>\n",
       "      <td>test</td>\n",
       "      <td>data/resize_image/test_NORMAL_IM-0003-0001.jpeg</td>\n",
       "      <td>0</td>\n",
       "    </tr>\n",
       "    <tr>\n",
       "      <th>2</th>\n",
       "      <td>data\\chest_xray\\chest_xray\\test\\NORMAL\\IM-0005...</td>\n",
       "      <td>NORMAL</td>\n",
       "      <td>test</td>\n",
       "      <td>data/resize_image/test_NORMAL_IM-0005-0001.jpeg</td>\n",
       "      <td>0</td>\n",
       "    </tr>\n",
       "    <tr>\n",
       "      <th>3</th>\n",
       "      <td>data\\chest_xray\\chest_xray\\test\\NORMAL\\IM-0006...</td>\n",
       "      <td>NORMAL</td>\n",
       "      <td>test</td>\n",
       "      <td>data/resize_image/test_NORMAL_IM-0006-0001.jpeg</td>\n",
       "      <td>0</td>\n",
       "    </tr>\n",
       "    <tr>\n",
       "      <th>4</th>\n",
       "      <td>data\\chest_xray\\chest_xray\\test\\NORMAL\\IM-0007...</td>\n",
       "      <td>NORMAL</td>\n",
       "      <td>test</td>\n",
       "      <td>data/resize_image/test_NORMAL_IM-0007-0001.jpeg</td>\n",
       "      <td>0</td>\n",
       "    </tr>\n",
       "  </tbody>\n",
       "</table>\n",
       "</div>"
      ],
      "text/plain": [
       "                                            img-path class-name split-name  \\\n",
       "0  data\\chest_xray\\chest_xray\\test\\NORMAL\\IM-0001...     NORMAL       test   \n",
       "1  data\\chest_xray\\chest_xray\\test\\NORMAL\\IM-0003...     NORMAL       test   \n",
       "2  data\\chest_xray\\chest_xray\\test\\NORMAL\\IM-0005...     NORMAL       test   \n",
       "3  data\\chest_xray\\chest_xray\\test\\NORMAL\\IM-0006...     NORMAL       test   \n",
       "4  data\\chest_xray\\chest_xray\\test\\NORMAL\\IM-0007...     NORMAL       test   \n",
       "\n",
       "                                       resized_img  class-encoded  \n",
       "0  data/resize_image/test_NORMAL_IM-0001-0001.jpeg              0  \n",
       "1  data/resize_image/test_NORMAL_IM-0003-0001.jpeg              0  \n",
       "2  data/resize_image/test_NORMAL_IM-0005-0001.jpeg              0  \n",
       "3  data/resize_image/test_NORMAL_IM-0006-0001.jpeg              0  \n",
       "4  data/resize_image/test_NORMAL_IM-0007-0001.jpeg              0  "
      ]
     },
     "execution_count": 9,
     "metadata": {},
     "output_type": "execute_result"
    }
   ],
   "source": [
    "# Convert text labels (NORMAL, PNEUMONIA) to numbers (0, 1) for machine learning\n",
    "data_map['class-encoded']= LabelEncoder().fit_transform(data_map['class-name'])\n",
    "data_map.head()"
   ]
  },
  {
   "cell_type": "code",
   "execution_count": null,
   "metadata": {},
   "outputs": [],
   "source": []
  }
 ],
 "metadata": {
  "kernelspec": {
   "display_name": "Myproject",
   "language": "python",
   "name": "python3"
  },
  "language_info": {
   "codemirror_mode": {
    "name": "ipython",
    "version": 3
   },
   "file_extension": ".py",
   "mimetype": "text/x-python",
   "name": "python",
   "nbconvert_exporter": "python",
   "pygments_lexer": "ipython3",
   "version": "3.11.11"
  }
 },
 "nbformat": 4,
 "nbformat_minor": 2
}
